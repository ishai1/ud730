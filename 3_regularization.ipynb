{
 "cells": [
  {
   "cell_type": "markdown",
   "metadata": {
    "ein.tags": [
     "worksheet-0"
    ],
    "slideshow": {
     "slide_type": "-"
    }
   },
   "source": [
    "Deep Learning\n",
    "=============\n",
    "\n",
    "Assignment 3\n",
    "------------\n",
    "\n",
    "Previously in `2_fullyconnected.ipynb`, you trained a logistic regression and a neural network model.\n",
    "\n",
    "The goal of this assignment is to explore regularization techniques."
   ]
  },
  {
   "cell_type": "code",
   "execution_count": 1,
   "metadata": {
    "autoscroll": "json-false",
    "collapsed": false,
    "ein.tags": [
     "worksheet-0"
    ],
    "slideshow": {
     "slide_type": "-"
    }
   },
   "outputs": [],
   "source": [
    "# These are all the modules we'll be using later. Make sure you can import them\n",
    "# before proceeding further.\n",
    "from __future__ import print_function\n",
    "import numpy as np\n",
    "import tensorflow as tf\n",
    "from six.moves import cPickle as pickle"
   ]
  },
  {
   "cell_type": "markdown",
   "metadata": {
    "ein.tags": [
     "worksheet-0"
    ],
    "slideshow": {
     "slide_type": "-"
    }
   },
   "source": [
    "First reload the data we generated in _notmist.ipynb_."
   ]
  },
  {
   "cell_type": "code",
   "execution_count": 2,
   "metadata": {
    "autoscroll": "json-false",
    "collapsed": false,
    "ein.tags": [
     "worksheet-0"
    ],
    "slideshow": {
     "slide_type": "-"
    }
   },
   "outputs": [
    {
     "name": "stdout",
     "output_type": "stream",
     "text": [
      "Training set (200000, 28, 28) (200000,)\n",
      "Validation set (10000, 28, 28) (10000,)\n",
      "Test set (10000, 28, 28) (10000,)\n"
     ]
    }
   ],
   "source": [
    "pickle_file = 'notMNIST.pickle'\n",
    "\n",
    "with open(pickle_file, 'rb') as f:\n",
    "  save = pickle.load(f)\n",
    "  train_dataset = save['train_dataset']\n",
    "  train_labels = save['train_labels']\n",
    "  valid_dataset = save['valid_dataset']\n",
    "  valid_labels = save['valid_labels']\n",
    "  test_dataset = save['test_dataset']\n",
    "  test_labels = save['test_labels']\n",
    "  del save  # hint to help gc free up memory\n",
    "  print('Training set', train_dataset.shape, train_labels.shape)\n",
    "  print('Validation set', valid_dataset.shape, valid_labels.shape)\n",
    "  print('Test set', test_dataset.shape, test_labels.shape)"
   ]
  },
  {
   "cell_type": "markdown",
   "metadata": {
    "ein.tags": [
     "worksheet-0"
    ],
    "slideshow": {
     "slide_type": "-"
    }
   },
   "source": [
    "Reformat into a shape that's more adapted to the models we're going to train:\n",
    "- data as a flat matrix,\n",
    "- labels as float 1-hot encodings."
   ]
  },
  {
   "cell_type": "code",
   "execution_count": 3,
   "metadata": {
    "autoscroll": "json-false",
    "collapsed": false,
    "ein.tags": [
     "worksheet-0"
    ],
    "slideshow": {
     "slide_type": "-"
    }
   },
   "outputs": [
    {
     "name": "stdout",
     "output_type": "stream",
     "text": [
      "Training set (200000, 784) (200000, 10)\n",
      "Validation set (10000, 784) (10000, 10)\n",
      "Test set (10000, 784) (10000, 10)\n"
     ]
    }
   ],
   "source": [
    "image_size = 28\n",
    "num_labels = 10\n",
    "\n",
    "def reformat(dataset, labels):\n",
    "  dataset = dataset.reshape((-1, image_size * image_size)).astype(np.float32)\n",
    "  # Map 1 to [0.0, 1.0, 0.0 ...], 2 to [0.0, 0.0, 1.0 ...]\n",
    "  labels = (np.arange(num_labels) == labels[:,None]).astype(np.float32)\n",
    "  return dataset, labels\n",
    "train_dataset, train_labels = reformat(train_dataset, train_labels)\n",
    "valid_dataset, valid_labels = reformat(valid_dataset, valid_labels)\n",
    "test_dataset, test_labels = reformat(test_dataset, test_labels)\n",
    "print('Training set', train_dataset.shape, train_labels.shape)\n",
    "print('Validation set', valid_dataset.shape, valid_labels.shape)\n",
    "print('Test set', test_dataset.shape, test_labels.shape)"
   ]
  },
  {
   "cell_type": "code",
   "execution_count": 40,
   "metadata": {
    "autoscroll": "json-false",
    "collapsed": false,
    "ein.tags": [
     "worksheet-0"
    ],
    "slideshow": {
     "slide_type": "-"
    }
   },
   "outputs": [],
   "source": [
    "def accuracy(predictions, labels):\n",
    "  return (100.0 * np.sum(np.argmax(predictions, 1) == np.argmax(labels, 1))\n",
    "          / predictions.shape[0])"
   ]
  },
  {
   "cell_type": "markdown",
   "metadata": {
    "ein.tags": [
     "worksheet-0"
    ],
    "slideshow": {
     "slide_type": "-"
    }
   },
   "source": [
    "---\n",
    "Problem 1\n",
    "---------\n",
    "\n",
    "Introduce and tune L2 regularization for both logistic and neural network models. Remember that L2 amounts to adding a penalty on the norm of the weights to the loss. In TensorFlow, you can compute the L2 loss for a tensor `t` using `nn.l2_loss(t)`. The right amount of regularization should improve your validation / test accuracy.\n",
    "\n",
    "---"
   ]
  },
  {
   "cell_type": "code",
   "execution_count": 7,
   "metadata": {
    "autoscroll": "json-false",
    "collapsed": false,
    "ein.tags": [
     "worksheet-0"
    ],
    "slideshow": {
     "slide_type": "-"
    }
   },
   "outputs": [],
   "source": [
    "import numpy as np\n",
    "pickle_file = 'eql_lsts.pickle'\n",
    "eql_lsts = np.load(pickle_file)\n",
    "apx_eql_lst = eql_lsts[\"apx_lst\"]"
   ]
  },
  {
   "cell_type": "code",
   "execution_count": 8,
   "metadata": {
    "autoscroll": "json-false",
    "collapsed": false,
    "ein.tags": [
     "worksheet-0"
    ],
    "slideshow": {
     "slide_type": "-"
    }
   },
   "outputs": [],
   "source": [
    "import itertools\n",
    "bad_train_ix = map(lambda x: x[0], apx_eql_lst)\n",
    "good_train_ix = list(filter(lambda i: i not in bad_train_ix, \n",
    "                            range(train_dataset.shape[0])))"
   ]
  },
  {
   "cell_type": "code",
   "execution_count": 13,
   "metadata": {
    "autoscroll": "json-false",
    "collapsed": false,
    "ein.tags": [
     "worksheet-0"
    ],
    "slideshow": {
     "slide_type": "-"
    }
   },
   "outputs": [],
   "source": [
    "import copy\n",
    "import random\n",
    "num_steps = 2001\n",
    "# ix list for actual SGD\n",
    "def random_permutation(iterable):\n",
    "  return np.random.permutation(len(iterable))\n",
    "  # # fisher/yates:\n",
    "  # \"l - random selection from permutations(iterable)\"\n",
    "  # l = copy.deepcopy(iterable)\n",
    "  # n = len(l)\n",
    "  # for i in range(n-1):\n",
    "  #   j = random.randrange(n-i)\n",
    "  #   t = l[i]\n",
    "  #   l[i] = l[i+j]\n",
    "  #   l[i+j] = l[i]\n",
    "  # return l\n",
    "rand_train_ix = random_permutation(good_train_ix)"
   ]
  },
  {
   "cell_type": "code",
   "execution_count": 17,
   "metadata": {
    "autoscroll": "json-false",
    "collapsed": false,
    "ein.tags": [
     "worksheet-0"
    ],
    "slideshow": {
     "slide_type": "-"
    }
   },
   "outputs": [],
   "source": [
    "batch_size = 128\n",
    "num_hidden = 1024*16\n",
    "beta = .01\n",
    "keep_prob = 0.5\n",
    "graph = tf.Graph()\n",
    "with graph.as_default():\n",
    "\n",
    "  # Input data. For the training data, we use a placeholder that will be fed\n",
    "  # at run time with a training minibatch.\n",
    "  tf_train_dataset = tf.placeholder(tf.float32,\n",
    "                                    shape=(batch_size, image_size * image_size))\n",
    "  tf_train_labels = tf.placeholder(tf.float32, shape=(batch_size, num_labels))\n",
    "  tf_valid_dataset = tf.constant(valid_dataset)\n",
    "  tf_test_dataset = tf.constant(test_dataset)\n",
    "  \n",
    "  # Variables.\n",
    "  weights0 = tf.Variable(\n",
    "    tf.truncated_normal([image_size * image_size, num_hidden]))\n",
    "  biases0 = tf.Variable(tf.zeros([num_hidden]))\n",
    "  weights1 = tf.Variable(tf.truncated_normal([num_hidden, num_labels]))\n",
    "  biases1 = tf.Variable(tf.truncated_normal([num_labels]))\n",
    "\n",
    "  # hidden\n",
    "  hidden_dataset = tf.nn.relu(tf.matmul(tf_train_dataset, weights0) + biases0)\n",
    "\n",
    "\n",
    "  # Training computation.\n",
    "  logits = tf.matmul(hidden_dataset, weights1) + biases1\n",
    "  loss = (tf.reduce_mean(\n",
    "    tf.nn.softmax_cross_entropy_with_logits(logits, tf_train_labels))+\n",
    "          beta*(tf.nn.l2_loss(weights0)+tf.nn.l2_loss(biases0)+\n",
    "                tf.nn.l2_loss(weights1)+tf.nn.l2_loss(biases1)))\n",
    "  \n",
    "  # Optimizer.\n",
    "  optimizer = tf.train.GradientDescentOptimizer(0.5).minimize(loss)\n",
    "  \n",
    "  # Predictions for the training, validation, and test data.\n",
    "  train_prediction = tf.nn.softmax(logits)\n",
    "\n",
    "  valid_hidden = tf.nn.relu(tf.matmul(tf_valid_dataset, weights0) + biases0)\n",
    "  valid_prediction = tf.nn.softmax(\n",
    "    tf.matmul(valid_hidden, weights1) + biases1)\n",
    "  test_hidden = tf.nn.relu(tf.matmul(tf_test_dataset, weights0) + biases0)\n",
    "  test_prediction = tf.nn.softmax(tf.matmul(test_hidden, weights1) + biases1)"
   ]
  },
  {
   "cell_type": "code",
   "execution_count": 15,
   "metadata": {
    "autoscroll": "json-false",
    "collapsed": false,
    "ein.tags": [
     "worksheet-0"
    ],
    "slideshow": {
     "slide_type": "-"
    }
   },
   "outputs": [],
   "source": [
    "def accuracy(predictions, labels):\n",
    "  return (100.0 * np.sum(np.argmax(predictions, 1) == np.argmax(labels, 1))\n",
    "          / predictions.shape[0])"
   ]
  },
  {
   "cell_type": "code",
   "execution_count": 16,
   "metadata": {
    "autoscroll": "json-false",
    "collapsed": false,
    "ein.tags": [
     "worksheet-0"
    ],
    "slideshow": {
     "slide_type": "-"
    }
   },
   "outputs": [
    {
     "name": "stdout",
     "output_type": "stream",
     "text": [
      "Initialized\n",
      "Minibatch loss at step 0: 7347.640625\n",
      "Minibatch accuracy: 5.5%\n",
      "Validation accuracy: 37.0%\n"
     ]
    },
    {
     "name": "stdout",
     "output_type": "stream",
     "text": [
      "Minibatch loss at step 500: 0.876382\n",
      "Minibatch accuracy: 96.1%\n",
      "Validation accuracy: 78.7%\n"
     ]
    },
    {
     "name": "stdout",
     "output_type": "stream",
     "text": [
      "Minibatch loss at step 1000: 0.620260\n",
      "Minibatch accuracy: 92.2%\n",
      "Validation accuracy: 78.6%\n"
     ]
    },
    {
     "name": "stdout",
     "output_type": "stream",
     "text": [
      "Minibatch loss at step 1500: 0.658640\n",
      "Minibatch accuracy: 88.3%\n",
      "Validation accuracy: 78.3%\n"
     ]
    },
    {
     "name": "stdout",
     "output_type": "stream",
     "text": [
      "Minibatch loss at step 2000: 0.555534\n",
      "Minibatch accuracy: 93.8%\n",
      "Validation accuracy: 76.1%\n",
      "Test accuracy: 66.2%\n"
     ]
    }
   ],
   "source": [
    "offset = 0\n",
    "with tf.Session(graph=graph) as session:\n",
    "  tf.initialize_all_variables().run()\n",
    "  print(\"Initialized\")\n",
    "  for step in range(num_steps):\n",
    "    # Pick an offset within the training data, which has been randomized.\n",
    "    # Note: we could use better randomization across epochs.\n",
    "    last_offset = offset\n",
    "    offset = (step * batch_size) % (len(rand_train_ix) - batch_size)\n",
    "    if offset < last_offset:\n",
    "      rand_train_ix = random_permutation(good_train_ix)\n",
    "    # Generate a minibatch.\n",
    "    batch_data = train_dataset[rand_train_ix[offset:(offset + batch_size)], :]\n",
    "    batch_labels = train_labels[rand_train_ix[offset:(offset + batch_size)], :]\n",
    "    # Prepare a dictionary telling the session where to feed the minibatch.\n",
    "    # The key of the dictionary is the placeholder node of the graph to be fed,\n",
    "    # and the value is the numpy array to feed to it.\n",
    "    feed_dict = {tf_train_dataset : batch_data, tf_train_labels : batch_labels}\n",
    "    _, l, predictions = session.run(\n",
    "      [optimizer, loss, train_prediction], feed_dict=feed_dict)\n",
    "    if (step % 500 == 0):\n",
    "      print(\"Minibatch loss at step %d: %f\" % (step, l))\n",
    "      print(\"Minibatch accuracy: %.1f%%\" % accuracy(predictions, batch_labels))\n",
    "      print(\"Validation accuracy: %.1f%%\" % accuracy(\n",
    "        valid_prediction.eval(), valid_labels))\n",
    "  print(\"Test accuracy: %.1f%%\" % accuracy(test_prediction.eval(), test_labels))"
   ]
  },
  {
   "cell_type": "markdown",
   "metadata": {
    "ein.tags": [
     "worksheet-0"
    ],
    "slideshow": {
     "slide_type": "-"
    }
   },
   "source": [
    "---\n",
    "Problem 2\n",
    "---------\n",
    "Let's demonstrate an extreme case of overfitting. Restrict your training data to just a few batches. What happens?\n",
    "\n",
    "---"
   ]
  },
  {
   "cell_type": "code",
   "execution_count": 15,
   "metadata": {
    "autoscroll": "json-false",
    "collapsed": false,
    "ein.tags": [
     "worksheet-0"
    ],
    "slideshow": {
     "slide_type": "-"
    }
   },
   "outputs": [],
   "source": [
    "import numpy as np\n",
    "pickle_file = 'eql_lsts.pickle'\n",
    "eql_lsts = np.load(pickle_file)\n",
    "apx_eql_lst = eql_lsts[\"apx_lst\"]"
   ]
  },
  {
   "cell_type": "code",
   "execution_count": 16,
   "metadata": {
    "autoscroll": "json-false",
    "collapsed": false,
    "ein.tags": [
     "worksheet-0"
    ],
    "slideshow": {
     "slide_type": "-"
    }
   },
   "outputs": [],
   "source": [
    "import itertools\n",
    "bad_train_ix = map(lambda x: x[0], apx_eql_lst)\n",
    "good_train_ix = list(filter(lambda i: i not in bad_train_ix, \n",
    "                            range(train_dataset.shape[0])))\n",
    "num_train = 800\n",
    "good_train_ix = good_train_ix[:num_train]"
   ]
  },
  {
   "cell_type": "code",
   "execution_count": 17,
   "metadata": {
    "autoscroll": "json-false",
    "collapsed": false,
    "ein.tags": [
     "worksheet-0"
    ],
    "slideshow": {
     "slide_type": "-"
    }
   },
   "outputs": [],
   "source": [
    "import copy\n",
    "import random\n",
    "num_steps = 2001\n",
    "# ix list for actual SGD\n",
    "def random_permutation(iterable):\n",
    "  return np.random.permutation(len(iterable))\n",
    "  # # fisher/yates:\n",
    "  # \"l - random selection from permutations(iterable)\"\n",
    "  # l = copy.deepcopy(iterable)\n",
    "  # n = len(l)\n",
    "  # for i in range(n-1):\n",
    "  #   j = random.randrange(n-i)\n",
    "  #   t = l[i]\n",
    "  #   l[i] = l[i+j]\n",
    "  #   l[i+j] = l[i]\n",
    "  # return l\n",
    "rand_train_ix = fisher_yates_sampling(good_train_ix)"
   ]
  },
  {
   "cell_type": "code",
   "execution_count": 18,
   "metadata": {
    "autoscroll": "json-false",
    "collapsed": false,
    "ein.tags": [
     "worksheet-0"
    ],
    "slideshow": {
     "slide_type": "-"
    }
   },
   "outputs": [],
   "source": [
    "batch_size = 128\n",
    "num_hidden = 1024\n",
    "beta = .01\n",
    "graph = tf.Graph()\n",
    "with graph.as_default():\n",
    "\n",
    "  # Input data. For the training data, we use a placeholder that will be fed\n",
    "  # at run time with a training minibatch.\n",
    "  tf_train_dataset = tf.placeholder(tf.float32,\n",
    "                                    shape=(batch_size, image_size * image_size))\n",
    "  tf_train_labels = tf.placeholder(tf.float32, shape=(batch_size, num_labels))\n",
    "  tf_valid_dataset = tf.constant(valid_dataset)\n",
    "  tf_test_dataset = tf.constant(test_dataset)\n",
    "  \n",
    "  # Variables.\n",
    "  weights0 = tf.Variable(\n",
    "    tf.truncated_normal([image_size * image_size, num_hidden]))\n",
    "  biases0 = tf.Variable(tf.zeros([num_hidden]))\n",
    "  weights1 = tf.Variable(tf.truncated_normal([num_hidden, num_labels]))\n",
    "  biases1 = tf.Variable(tf.truncated_normal([num_labels]))\n",
    "\n",
    "  # hidden\n",
    "  hidden_dataset = tf.nn.relu(tf.matmul(tf_train_dataset, weights0) + biases0)\n",
    "\n",
    "  # Training computation.\n",
    "  logits = tf.matmul(hidden_dataset, weights1) + biases1\n",
    "  loss = (tf.reduce_mean(\n",
    "    tf.nn.softmax_cross_entropy_with_logits(logits, tf_train_labels))+\n",
    "          beta*(tf.nn.l2_loss(weights0)+tf.nn.l2_loss(biases0)+\n",
    "                tf.nn.l2_loss(weights1)+tf.nn.l2_loss(biases1)))\n",
    "  \n",
    "  # Optimizer.\n",
    "  optimizer = tf.train.GradientDescentOptimizer(0.5).minimize(loss)\n",
    "  \n",
    "  # Predictions for the training, validation, and test data.\n",
    "  train_prediction = tf.nn.softmax(logits)\n",
    "\n",
    "  valid_hidden = tf.nn.relu(tf.matmul(tf_valid_dataset, weights0) + biases0)\n",
    "  valid_prediction = tf.nn.softmax(\n",
    "    tf.matmul(valid_hidden, weights1) + biases1)\n",
    "  test_hidden = tf.nn.relu(tf.matmul(tf_test_dataset, weights0) + biases0)\n",
    "  test_prediction = tf.nn.softmax(tf.matmul(test_hidden, weights1) + biases1)"
   ]
  },
  {
   "cell_type": "code",
   "execution_count": 19,
   "metadata": {
    "autoscroll": "json-false",
    "collapsed": false,
    "ein.tags": [
     "worksheet-0"
    ],
    "slideshow": {
     "slide_type": "-"
    }
   },
   "outputs": [],
   "source": [
    "def accuracy(predictions, labels):\n",
    "  return (100.0 * np.sum(np.argmax(predictions, 1) == np.argmax(labels, 1))\n",
    "          / predictions.shape[0])"
   ]
  },
  {
   "cell_type": "code",
   "execution_count": 20,
   "metadata": {
    "autoscroll": "json-false",
    "collapsed": false,
    "ein.tags": [
     "worksheet-0"
    ],
    "slideshow": {
     "slide_type": "-"
    }
   },
   "outputs": [
    {
     "name": "stdout",
     "output_type": "stream",
     "text": [
      "Test accuracy: 68.6%\n"
     ]
    },
    {
     "name": "stdout",
     "output_type": "stream",
     "text": [
      "Validation accuracy: 79.3%\n"
     ]
    },
    {
     "name": "stdout",
     "output_type": "stream",
     "text": [
      "Minibatch loss at step 2000: 0.490076\n",
      "Minibatch accuracy: 96.9%\n"
     ]
    },
    {
     "name": "stdout",
     "output_type": "stream",
     "text": [
      "Validation accuracy: 80.4%\n"
     ]
    },
    {
     "name": "stdout",
     "output_type": "stream",
     "text": [
      "Minibatch loss at step 1500: 0.414823\n",
      "Minibatch accuracy: 99.2%\n"
     ]
    },
    {
     "name": "stdout",
     "output_type": "stream",
     "text": [
      "Validation accuracy: 81.4%\n"
     ]
    },
    {
     "name": "stdout",
     "output_type": "stream",
     "text": [
      "Minibatch loss at step 1000: 0.400443\n",
      "Minibatch accuracy: 100.0%\n"
     ]
    },
    {
     "name": "stdout",
     "output_type": "stream",
     "text": [
      "Validation accuracy: 81.8%\n"
     ]
    },
    {
     "name": "stdout",
     "output_type": "stream",
     "text": [
      "Minibatch loss at step 500: 0.780712\n",
      "Minibatch accuracy: 97.7%\n"
     ]
    },
    {
     "name": "stdout",
     "output_type": "stream",
     "text": [
      "Validation accuracy: 30.3%\n"
     ]
    },
    {
     "name": "stdout",
     "output_type": "stream",
     "text": [
      "Initialized\n",
      "Minibatch loss at step 0: 6528.056152\n",
      "Minibatch accuracy: 13.3%\n"
     ]
    }
   ],
   "source": [
    "offset = 0\n",
    "with tf.Session(graph=graph) as session:\n",
    "  tf.initialize_all_variables().run()\n",
    "  print(\"Initialized\")\n",
    "  for step in range(num_steps):\n",
    "    # Pick an offset within the training data, which has been randomized.\n",
    "    # Note: we could use better randomization across epochs.\n",
    "    last_offset = offset\n",
    "    offset = (step * batch_size) % (len(rand_train_ix) - batch_size)\n",
    "    if offset < last_offset:\n",
    "      rand_train_ix = fisher_yates_sampling(good_train_ix)\n",
    "    # Generate a minibatch.\n",
    "    batch_data = train_dataset[rand_train_ix[offset:(offset + batch_size)], :]\n",
    "    batch_labels = train_labels[rand_train_ix[offset:(offset + batch_size)], :]\n",
    "    # Prepare a dictionary telling the session where to feed the minibatch.\n",
    "    # The key of the dictionary is the placeholder node of the graph to be fed,\n",
    "    # and the value is the numpy array to feed to it.\n",
    "    feed_dict = {tf_train_dataset : batch_data, tf_train_labels : batch_labels}\n",
    "    _, l, predictions = session.run(\n",
    "      [optimizer, loss, train_prediction], feed_dict=feed_dict)\n",
    "    if (step % 500 == 0):\n",
    "      print(\"Minibatch loss at step %d: %f\" % (step, l))\n",
    "      print(\"Minibatch accuracy: %.1f%%\" % accuracy(predictions, batch_labels))\n",
    "      print(\"Validation accuracy: %.1f%%\" % accuracy(\n",
    "        valid_prediction.eval(), valid_labels))\n",
    "  print(\"Test accuracy: %.1f%%\" % accuracy(test_prediction.eval(), test_labels))"
   ]
  },
  {
   "cell_type": "markdown",
   "metadata": {
    "ein.tags": [
     "worksheet-0"
    ],
    "slideshow": {
     "slide_type": "-"
    }
   },
   "source": [
    "---\n",
    "Problem 3\n",
    "---------\n",
    "Introduce Dropout on the hidden layer of the neural network. Remember: Dropout should only be introduced during training, not evaluation, otherwise your evaluation results would be stochastic as well. TensorFlow provides `nn.dropout()` for that, but you have to make sure it's only inserted during training.\n",
    "\n",
    "What happens to our extreme overfitting case?\n",
    "\n",
    "---"
   ]
  },
  {
   "cell_type": "code",
   "execution_count": 84,
   "metadata": {
    "autoscroll": "json-false",
    "collapsed": false,
    "ein.tags": [
     "worksheet-0"
    ],
    "slideshow": {
     "slide_type": "-"
    }
   },
   "outputs": [],
   "source": [
    "import numpy as np\n",
    "pickle_file = 'eql_lsts.pickle'\n",
    "eql_lsts = np.load(pickle_file)\n",
    "apx_eql_lst = eql_lsts[\"apx_lst\"]"
   ]
  },
  {
   "cell_type": "code",
   "execution_count": 85,
   "metadata": {
    "autoscroll": "json-false",
    "collapsed": false,
    "ein.tags": [
     "worksheet-0"
    ],
    "slideshow": {
     "slide_type": "-"
    }
   },
   "outputs": [],
   "source": [
    "import itertools\n",
    "bad_train_ix = list(map(lambda x: x[0], apx_eql_lst))\n",
    "good_train_ix = list(filter(lambda i: i not in bad_train_ix, \n",
    "                            range(train_dataset.shape[0])))"
   ]
  },
  {
   "cell_type": "code",
   "execution_count": 61,
   "metadata": {
    "autoscroll": "json-false",
    "collapsed": false,
    "ein.tags": [
     "worksheet-0"
    ],
    "slideshow": {
     "slide_type": "-"
    }
   },
   "outputs": [],
   "source": [
    "train_fraction = .01\n",
    "num_train = round(train_fraction*len(good_train_ix))\n",
    "actual_train_ix = good_train_ix[:num_train]"
   ]
  },
  {
   "cell_type": "code",
   "execution_count": 66,
   "metadata": {
    "autoscroll": "json-false",
    "collapsed": false,
    "ein.tags": [
     "worksheet-0"
    ],
    "slideshow": {
     "slide_type": "-"
    }
   },
   "outputs": [],
   "source": [
    "import copy\n",
    "import random\n",
    "num_steps = 1001\n",
    "# ix list for actual SGD\n",
    "def random_permutation(iterable):\n",
    "  return np.random.permutation(len(iterable))\n",
    "  # # fisher/yates:\n",
    "  # \"l - random selection from permutations(iterable)\"\n",
    "  # l = copy.deepcopy(iterable)\n",
    "  # n = len(l)\n",
    "  # for i in range(n-1):\n",
    "  #   j = random.randrange(n-i)\n",
    "  #   t = l[i]\n",
    "  #   l[i] = l[i+j]\n",
    "  #   l[i+j] = l[i]\n",
    "  # return l\n",
    "rand_train_ix = random_permutation(actual_train_ix)"
   ]
  },
  {
   "cell_type": "code",
   "execution_count": 67,
   "metadata": {
    "autoscroll": "json-false",
    "collapsed": false,
    "ein.tags": [
     "worksheet-0"
    ],
    "slideshow": {
     "slide_type": "-"
    }
   },
   "outputs": [],
   "source": [
    "batch_size = 128\n",
    "keep_prob = .5                  # 0<keep_prob<=1\n",
    "num_hidden = 1024*4\n",
    "beta = .01\n",
    "graph = tf.Graph()\n",
    "with graph.as_default():\n",
    "\n",
    "  # Input data. For the training data, we use a placeholder that will be fed\n",
    "  # at run time with a training minibatch.\n",
    "  tf_train_dataset = tf.placeholder(tf.float32,\n",
    "                                    shape=(batch_size, image_size * image_size))\n",
    "  tf_train_labels = tf.placeholder(tf.float32, shape=(batch_size, num_labels))\n",
    "  tf_valid_dataset = tf.constant(valid_dataset)\n",
    "  tf_test_dataset = tf.constant(test_dataset)\n",
    "  \n",
    "  # Variables.\n",
    "  weights0 = tf.Variable(\n",
    "    tf.truncated_normal([image_size * image_size, num_hidden]))\n",
    "  biases0 = tf.Variable(tf.zeros([num_hidden]))\n",
    "  weights1 = tf.Variable(tf.truncated_normal([num_hidden, num_labels]))\n",
    "  biases1 = tf.Variable(tf.truncated_normal([num_labels]))\n",
    "\n",
    "  # hidden\n",
    "  hidden_dataset = tf.nn.relu(tf.matmul(tf_train_dataset, weights0) + biases0)\n",
    "  hidden_drop = tf.nn.dropout(hidden_dataset,keep_prob)*(1/keep_prob)\n",
    "\n",
    "  # Training computation.\n",
    "  logits = tf.matmul(hidden_drop, weights1) + biases1\n",
    "  loss = (tf.reduce_mean(\n",
    "    tf.nn.softmax_cross_entropy_with_logits(logits, tf_train_labels))+\n",
    "          beta*(tf.nn.l2_loss(weights0)+tf.nn.l2_loss(biases0)+\n",
    "                tf.nn.l2_loss(weights1)+tf.nn.l2_loss(biases1)))\n",
    "  \n",
    "  # Optimizer.\n",
    "  optimizer = tf.train.GradientDescentOptimizer(0.5).minimize(loss)\n",
    "  \n",
    "  # Predictions for the training, validation, and test data.\n",
    "  train_prediction = tf.nn.softmax(logits)\n",
    "\n",
    "  valid_hidden = tf.nn.relu(tf.matmul(tf_valid_dataset, weights0) + biases0)\n",
    "  valid_prediction = tf.nn.softmax(\n",
    "    tf.matmul(valid_hidden, weights1) + biases1)\n",
    "  test_hidden = tf.nn.relu(tf.matmul(tf_test_dataset, weights0) + biases0)\n",
    "  test_prediction = tf.nn.softmax(tf.matmul(test_hidden, weights1) + biases1)"
   ]
  },
  {
   "cell_type": "code",
   "execution_count": 68,
   "metadata": {
    "autoscroll": "json-false",
    "collapsed": false,
    "ein.tags": [
     "worksheet-0"
    ],
    "slideshow": {
     "slide_type": "-"
    }
   },
   "outputs": [],
   "source": [
    "def accuracy(predictions, labels):\n",
    "  return (100.0 * np.sum(np.argmax(predictions, 1) == np.argmax(labels, 1))\n",
    "          / predictions.shape[0])"
   ]
  },
  {
   "cell_type": "code",
   "execution_count": 69,
   "metadata": {
    "autoscroll": "json-false",
    "collapsed": false,
    "ein.tags": [
     "worksheet-0"
    ],
    "slideshow": {
     "slide_type": "-"
    }
   },
   "outputs": [
    {
     "name": "stdout",
     "output_type": "stream",
     "text": [
      "Test accuracy: 69.6%\n"
     ]
    },
    {
     "name": "stdout",
     "output_type": "stream",
     "text": [
      "Minibatch loss at step 2000: 0.485670\n",
      "Minibatch accuracy: 94.5%\n",
      "Validation accuracy: 80.7%\n"
     ]
    },
    {
     "name": "stdout",
     "output_type": "stream",
     "text": [
      "Minibatch loss at step 1500: 0.527620\n",
      "Minibatch accuracy: 96.9%\n",
      "Validation accuracy: 82.2%\n"
     ]
    },
    {
     "name": "stdout",
     "output_type": "stream",
     "text": [
      "Minibatch loss at step 1000: 1.110798\n",
      "Minibatch accuracy: 95.3%\n",
      "Validation accuracy: 83.2%\n"
     ]
    },
    {
     "name": "stdout",
     "output_type": "stream",
     "text": [
      "Minibatch loss at step 500: 98.461121\n",
      "Minibatch accuracy: 99.2%\n",
      "Validation accuracy: 82.6%\n"
     ]
    },
    {
     "name": "stdout",
     "output_type": "stream",
     "text": [
      "Validation accuracy: 35.0%\n"
     ]
    },
    {
     "name": "stdout",
     "output_type": "stream",
     "text": [
      "Initialized\n",
      "Minibatch loss at step 0: 14592.014648\n",
      "Minibatch accuracy: 12.5%\n"
     ]
    }
   ],
   "source": [
    "offset = 0\n",
    "with tf.Session(graph=graph) as session:\n",
    "  tf.initialize_all_variables().run()\n",
    "  print(\"Initialized\")\n",
    "  for step in range(num_steps):\n",
    "    # Pick an offset within the training data, which has been randomized.\n",
    "    # Note: we could use better randomization across epochs.\n",
    "    last_offset = offset\n",
    "    offset = (step * batch_size) % (len(rand_train_ix) - batch_size)\n",
    "    if offset < last_offset:\n",
    "      rand_train_ix = random_permutation(actual_train_ix)\n",
    "    # Generate a minibatch.\n",
    "    batch_data = train_dataset[rand_train_ix[offset:(offset + batch_size)], :]\n",
    "    batch_labels = train_labels[rand_train_ix[offset:(offset + batch_size)], :]\n",
    "    # Prepare a dictionary telling the session where to feed the minibatch.\n",
    "    # The key of the dictionary is the placeholder node of the graph to be fed,\n",
    "    # and the value is the numpy array to feed to it.\n",
    "    feed_dict = {tf_train_dataset : batch_data, tf_train_labels : batch_labels}\n",
    "    _, l, predictions = session.run(\n",
    "      [optimizer, loss, train_prediction], feed_dict=feed_dict)\n",
    "    if (step % 500 == 0):\n",
    "      print(\"Minibatch loss at step %d: %f\" % (step, l))\n",
    "      print(\"Minibatch accuracy: %.1f%%\" % accuracy(predictions, batch_labels))\n",
    "      print(\"Validation accuracy: %.1f%%\" % accuracy(\n",
    "        valid_prediction.eval(), valid_labels))\n",
    "  print(\"Test accuracy: %.1f%%\" % accuracy(test_prediction.eval(), test_labels))"
   ]
  },
  {
   "cell_type": "markdown",
   "metadata": {
    "ein.tags": [
     "worksheet-0"
    ],
    "slideshow": {
     "slide_type": "-"
    }
   },
   "source": [
    "---\n",
    "Problem 4\n",
    "---------\n",
    "\n",
    "Try to get the best performance you can using a multi-layer model! The best reported test accuracy using a deep network is [97.1%](http://yaroslavvb.blogspot.com/2011/09/notmnist-dataset.html?showComment=1391023266211#c8758720086795711595).\n",
    "\n",
    "One avenue you can explore is to add multiple layers.\n",
    "\n",
    "Another one is to use learning rate decay:\n",
    "\n",
    "    global_step = tf.Variable(0)  # count the number of steps taken.\n",
    "    learning_rate = tf.train.exponential_decay(0.5, global_step, ...)\n",
    "    optimizer = tf.train.GradientDescentOptimizer(learning_rate).minimize(loss, global_step=global_step)\n",
    " \n",
    " ---\n"
   ]
  },
  {
   "cell_type": "code",
   "execution_count": 97,
   "metadata": {
    "autoscroll": "json-false",
    "collapsed": false,
    "ein.tags": [
     "worksheet-0"
    ],
    "slideshow": {
     "slide_type": "-"
    }
   },
   "outputs": [],
   "source": [
    "import numpy as np\n",
    "pickle_file = 'eql_lsts.pickle'\n",
    "eql_lsts = np.load(pickle_file)\n",
    "apx_eql_lst = eql_lsts[\"apx_lst\"]"
   ]
  },
  {
   "cell_type": "code",
   "execution_count": 98,
   "metadata": {
    "autoscroll": "json-false",
    "collapsed": false,
    "ein.tags": [
     "worksheet-0"
    ],
    "slideshow": {
     "slide_type": "-"
    }
   },
   "outputs": [],
   "source": [
    "import itertools\n",
    "bad_train_ix = list(map(lambda x: x[0], apx_eql_lst))\n",
    "good_train_ix = list(filter(lambda i: i not in bad_train_ix, \n",
    "                            range(train_dataset.shape[0])))"
   ]
  },
  {
   "cell_type": "code",
   "execution_count": 99,
   "metadata": {
    "autoscroll": "json-false",
    "collapsed": false,
    "ein.tags": [
     "worksheet-0"
    ],
    "slideshow": {
     "slide_type": "-"
    }
   },
   "outputs": [],
   "source": [
    "train_fraction = 1\n",
    "num_train = round(train_fraction*len(good_train_ix))\n",
    "actual_train_ix = good_train_ix[:num_train]"
   ]
  },
  {
   "cell_type": "code",
   "execution_count": 100,
   "metadata": {
    "autoscroll": "json-false",
    "collapsed": false,
    "ein.tags": [
     "worksheet-0"
    ],
    "slideshow": {
     "slide_type": "-"
    }
   },
   "outputs": [],
   "source": [
    "import copy\n",
    "import random\n",
    "# ix list for actual SGD\n",
    "def random_permutation(iterable):\n",
    "  return np.random.permutation(len(iterable))\n",
    "  # # fisher/yates:\n",
    "  # \"l - random selection from permutations(iterable)\"\n",
    "  # l = copy.deepcopy(iterable)\n",
    "  # n = len(l)\n",
    "  # for i in range(n-1):\n",
    "  #   j = random.randrange(n-i)\n",
    "  #   t = l[i]\n",
    "  #   l[i] = l[i+j]\n",
    "  #   l[i+j] = l[i]\n",
    "  # return l\n",
    "rand_train_ix = random_permutation(actual_train_ix)"
   ]
  },
  {
   "cell_type": "code",
   "execution_count": 112,
   "metadata": {
    "autoscroll": "json-false",
    "collapsed": false,
    "ein.tags": [
     "worksheet-0"
    ],
    "slideshow": {
     "slide_type": "-"
    }
   },
   "outputs": [],
   "source": [
    "parameters = {\n",
    "  'num_steps':6501,\n",
    "  'batch_size':128,\n",
    "  'keep_prob':.8,                  # 0<keep_prob<=1\n",
    "  'learning_rate':[\n",
    "    0.001,          # Base learning rate.\n",
    "    128,           # Current index into the dataset (multiply by batch size).\n",
    "    num_train,     # Decay steps.\n",
    "    0.8           # Decay rate.\n",
    "    ],\n",
    "  'beta':.01,   # regularization parameter\n",
    "  'num_hidden':[2^10,2^10],\n",
    "  'layer_fcn':[tf.nn.relu,tf.nn.relu] ,\n",
    "  'num_hidden_layers':2,\n",
    "  'momentum':.9,\n",
    "  'opt_fcn':tf.train.MomentumOptimizer # AdamOptimizer,MomentumOptimizer,GradientDescentOptimizer\n",
    "}\n",
    "assert parameters['num_hidden_layers'] == len(parameters['layer_fcn']) == len(parameters['num_hidden'])\n",
    "graph = tf.Graph()\n",
    "with graph.as_default():\n",
    "  batch = tf.Variable(0)\n",
    "  learning_rate = tf.train.exponential_decay(\n",
    "    parameters['learning_rate'][0],\n",
    "    parameters['learning_rate'][1]*batch,\n",
    "    *parameters['learning_rate'][2:],\n",
    "    staircase=True)\n",
    "  # Input data. For the training data, we use a placeholder that will be fed\n",
    "  # at run time with a training minibatch.\n",
    "  tf_train_dataset = tf.placeholder(tf.float32,\n",
    "                                    shape=(parameters['batch_size'], image_size * image_size))\n",
    "  tf_train_labels = tf.placeholder(tf.float32, shape=(parameters['batch_size'], num_labels))\n",
    "  tf_valid_dataset = tf.constant(valid_dataset)\n",
    "  tf_test_dataset = tf.constant(test_dataset)\n",
    "  \n",
    "  # Variables\n",
    "  weights = [tf.Variable(\n",
    "    tf.truncated_normal([image_size * image_size, parameters['num_hidden'][0]]))]\n",
    "  biases = [tf.Variable(tf.zeros([parameters['num_hidden'][0]]))]\n",
    "  hidden_dataset = tf.nn.dropout(\n",
    "    parameters['layer_fcn'][0](tf.add(tf.matmul(tf_train_dataset, weights[0]), biases[0])), \n",
    "    parameters['keep_prob'])*(1/parameters['keep_prob'])\n",
    "\n",
    "  for l in range(1,parameters['num_hidden_layers']):\n",
    "    weights += [tf.Variable(tf.truncated_normal([parameters['num_hidden'][l-1], parameters['num_hidden'][l]]))]\n",
    "    biases += [tf.Variable(tf.zeros([parameters['num_hidden'][l]]))]\n",
    "    hidden_dataset = tf.nn.dropout(\n",
    "      parameters['layer_fcn'][l](tf.add(tf.matmul(hidden_dataset, weights[l]), biases[l])),\n",
    "      parameters['keep_prob'])*(1/parameters['keep_prob'])\n",
    "\n",
    "\n",
    "  weights += [tf.Variable(tf.truncated_normal([parameters['num_hidden'][-1], num_labels]))]\n",
    "  biases += [tf.Variable(tf.zeros([num_labels]))]\n",
    " \n",
    "  # Training computation.\n",
    "  logits = tf.matmul(hidden_dataset, weights[-1]) + biases[-1]\n",
    "  loss = tf.reduce_mean(\n",
    "    tf.nn.softmax_cross_entropy_with_logits(logits, tf_train_labels))\n",
    "  for i in range(parameters['num_hidden_layers']+1):\n",
    "    loss += parameters['beta']*(tf.nn.l2_loss(weights[i])+tf.nn.l2_loss(biases[i]))\n",
    "\n",
    "  # Optimizer\n",
    "  # optimizer = tf.train.GradientDescentOptimizer(0.5).minimize(loss)\n",
    "  optimizer = parameters['opt_fcn'](\n",
    "    learning_rate,\n",
    "    parameters['momentum']).minimize(loss, global_step=batch)\n",
    "  # optimizer = parameters['opt_fcn'](\n",
    "  #   learning_rate=parameters['learning_rate'], \n",
    "  #   global_step=parameters['global_step']).minimize(loss)\n",
    "  # Predictions for the training, validation, and test data.\n",
    "  train_prediction = tf.nn.softmax(logits)\n",
    "\n",
    "  valid_hidden = parameters['layer_fcn'][0](tf.matmul(tf_valid_dataset, weights[0]) + \n",
    "                              biases[0])\n",
    "  test_hidden = parameters['layer_fcn'][0](tf.matmul(tf_test_dataset, weights[0]) + \n",
    "                             biases[0])\n",
    "  for l in range(1,parameters['num_hidden_layers']):\n",
    "    valid_hidden = parameters['layer_fcn'][l](tf.matmul(valid_hidden, weights[l]) +\n",
    "                                biases[l])\n",
    "    test_hidden = parameters['layer_fcn'][l](tf.matmul(test_hidden, weights[l]) + \n",
    "                               biases[l])\n",
    "\n",
    "  valid_prediction = tf.nn.softmax(tf.matmul(valid_hidden, weights[-1]) + \n",
    "                                   biases[-1])\n",
    "  test_prediction = tf.nn.softmax(tf.matmul(test_hidden, weights[-1]) + \n",
    "                                  biases[-1])"
   ]
  },
  {
   "cell_type": "code",
   "execution_count": 102,
   "metadata": {
    "autoscroll": "json-false",
    "collapsed": false,
    "ein.tags": [
     "worksheet-0"
    ],
    "slideshow": {
     "slide_type": "-"
    }
   },
   "outputs": [],
   "source": [
    "def accuracy(predictions, labels):\n",
    "  return (100.0 * np.sum(np.argmax(predictions, 1) == np.argmax(labels, 1))\n",
    "          / predictions.shape[0])"
   ]
  },
  {
   "cell_type": "code",
   "execution_count": 113,
   "metadata": {
    "autoscroll": "json-false",
    "collapsed": false,
    "ein.tags": [
     "worksheet-0"
    ],
    "slideshow": {
     "slide_type": "-"
    }
   },
   "outputs": [
    {
     "name": "stdout",
     "output_type": "stream",
     "text": [
      "Test accuracy: 25.1%\n"
     ]
    },
    {
     "name": "stdout",
     "output_type": "stream",
     "text": [
      "Minibatch loss at step 6500: 11.521459\n",
      "Minibatch accuracy: 28.9%\n",
      "Validation accuracy: 28.7%\n"
     ]
    },
    {
     "name": "stdout",
     "output_type": "stream",
     "text": [
      "Minibatch loss at step 6000: 12.083858\n",
      "Minibatch accuracy: 21.9%\n",
      "Validation accuracy: 27.6%\n"
     ]
    },
    {
     "name": "stdout",
     "output_type": "stream",
     "text": [
      "Minibatch loss at step 5500: 12.607504\n",
      "Minibatch accuracy: 21.1%\n",
      "Validation accuracy: 26.5%\n"
     ]
    },
    {
     "name": "stdout",
     "output_type": "stream",
     "text": [
      "Minibatch loss at step 5000: 13.112435\n",
      "Minibatch accuracy: 28.1%\n",
      "Validation accuracy: 25.1%\n"
     ]
    },
    {
     "name": "stdout",
     "output_type": "stream",
     "text": [
      "Minibatch loss at step 4500: 13.792360\n",
      "Minibatch accuracy: 22.7%\n",
      "Validation accuracy: 23.3%\n"
     ]
    },
    {
     "name": "stdout",
     "output_type": "stream",
     "text": [
      "Minibatch loss at step 4000: 14.609591\n",
      "Minibatch accuracy: 18.8%\n",
      "Validation accuracy: 22.4%\n"
     ]
    },
    {
     "name": "stdout",
     "output_type": "stream",
     "text": [
      "Minibatch loss at step 3500: 15.401945\n",
      "Minibatch accuracy: 18.8%\n",
      "Validation accuracy: 21.5%\n"
     ]
    },
    {
     "name": "stdout",
     "output_type": "stream",
     "text": [
      "Minibatch loss at step 3000: 16.365429\n",
      "Minibatch accuracy: 21.1%\n",
      "Validation accuracy: 20.2%\n"
     ]
    },
    {
     "name": "stdout",
     "output_type": "stream",
     "text": [
      "Minibatch loss at step 2500: 17.581362\n",
      "Minibatch accuracy: 17.2%\n",
      "Validation accuracy: 19.9%\n"
     ]
    },
    {
     "name": "stdout",
     "output_type": "stream",
     "text": [
      "Minibatch loss at step 2000: 18.865662\n",
      "Minibatch accuracy: 14.8%\n",
      "Validation accuracy: 18.9%\n"
     ]
    },
    {
     "name": "stdout",
     "output_type": "stream",
     "text": [
      "Minibatch loss at step 1500: 20.277245\n",
      "Minibatch accuracy: 19.5%\n",
      "Validation accuracy: 18.5%\n"
     ]
    },
    {
     "name": "stdout",
     "output_type": "stream",
     "text": [
      "Minibatch loss at step 1000: 22.221041\n",
      "Minibatch accuracy: 25.0%\n",
      "Validation accuracy: 17.8%\n"
     ]
    },
    {
     "name": "stdout",
     "output_type": "stream",
     "text": [
      "Minibatch loss at step 500: 24.418331\n",
      "Minibatch accuracy: 11.7%\n",
      "Validation accuracy: 17.3%\n"
     ]
    },
    {
     "name": "stdout",
     "output_type": "stream",
     "text": [
      "Initialized\n",
      "Minibatch loss at step 0: 65.115540\n",
      "Minibatch accuracy: 11.7%\n",
      "Validation accuracy: 8.8%\n"
     ]
    }
   ],
   "source": [
    "offset = 0\n",
    "test_accuracy = 0\n",
    "with tf.Session(graph=graph) as session:\n",
    "  tf.initialize_all_variables().run()\n",
    "  print(\"Initialized\")\n",
    "  for step in range(parameters['num_steps']):\n",
    "    # Pick an offset within the training data, which has been randomized.\n",
    "    # Note: we could use better randomization across epochs.\n",
    "    last_offset = offset\n",
    "    offset = (step * parameters['batch_size']) % (len(rand_train_ix) - parameters['batch_size'])\n",
    "    if offset < last_offset:\n",
    "      rand_train_ix = random_permutation(actual_train_ix)\n",
    "    # Generate a minibatch.\n",
    "    batch_data = train_dataset[rand_train_ix[offset:(offset + parameters['batch_size'])], :]\n",
    "    batch_labels = train_labels[rand_train_ix[offset:(offset + parameters['batch_size'])], :]\n",
    "    # Prepare a dictionary telling the session where to feed the minibatch.\n",
    "    # The key of the dictionary is the placeholder node of the graph to be fed,\n",
    "    # and the value is the numpy array to feed to it.\n",
    "    feed_dict = {tf_train_dataset : batch_data, tf_train_labels : batch_labels}\n",
    "    _, l, predictions = session.run(\n",
    "      [optimizer, loss, train_prediction], feed_dict=feed_dict)\n",
    "    if (step % 500 == 0):\n",
    "      print(\"Minibatch loss at step %d: %f\" % (step, l))\n",
    "      print(\"Minibatch accuracy: %.1f%%\" % accuracy(predictions, batch_labels))\n",
    "      print(\"Validation accuracy: %.1f%%\" % accuracy(\n",
    "        valid_prediction.eval(), valid_labels))\n",
    "  test_accuracy = accuracy(test_prediction.eval(), test_labels)\n",
    "  print(\"Test accuracy: %.1f%%\" % test_accuracy)"
   ]
  },
  {
   "cell_type": "code",
   "execution_count": 114,
   "metadata": {
    "autoscroll": "json-false",
    "collapsed": false,
    "ein.tags": [
     "worksheet-0"
    ],
    "slideshow": {
     "slide_type": "-"
    }
   },
   "outputs": [],
   "source": [
    "with open(\"results.txt\", \"a\") as myfile:\n",
    "  myfile.write(str(parameters))\n",
    "  myfile.write(\"\\n\"+str(test_accuracy))"
   ]
  }
 ],
 "metadata": {
  "colab": {
   "default_view": {},
   "name": "3_regularization.ipynb",
   "provenance": {},
   "version": "0.3.2",
   "views": {}
  },
  "name": "3_regularization.ipynb"
 },
 "nbformat": 4,
 "nbformat_minor": 0
}
